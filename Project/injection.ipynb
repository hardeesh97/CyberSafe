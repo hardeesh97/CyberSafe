{
 "cells": [
  {
   "cell_type": "code",
   "execution_count": 1,
   "id": "ae30375c-3264-4fb5-b0b7-e648aef2cc58",
   "metadata": {
    "scrolled": true
   },
   "outputs": [
    {
     "name": "stdout",
     "output_type": "stream",
     "text": [
      "/Users/hardeesh/CSV/.DS_Store\n",
      "/Users/hardeesh/CSV/Final_data.csv\n",
      "/Users/hardeesh/CSV/SF_Data.csv\n",
      "/Users/hardeesh/CSV/NF-ToN-IoT-v2.csv\n"
     ]
    }
   ],
   "source": [
    "import numpy as np # linear algebra\n",
    "import pandas as pd # data processing, CSV file I/O (e.g. pd.read_csv)\n",
    "import os\n",
    "for dirname, _, filenames in os.walk('/Users/hardeesh/CSV'):\n",
    "    for filename in filenames:\n",
    "        print(os.path.join(dirname, filename))"
   ]
  },
  {
   "cell_type": "code",
   "execution_count": 2,
   "id": "9786094d-d5fe-4cc2-a013-3d7c6ea40e84",
   "metadata": {},
   "outputs": [
    {
     "data": {
      "text/plain": [
       "(16940496, 45)"
      ]
     },
     "execution_count": 2,
     "metadata": {},
     "output_type": "execute_result"
    }
   ],
   "source": [
    "df = pd.read_csv('/Users/hardeesh/CSV/NF-ToN-IoT-v2.csv', sep=',', encoding='utf-8')\n",
    "df.shape"
   ]
  },
  {
   "cell_type": "code",
   "execution_count": 3,
   "id": "bd37c47f-6edc-4ac8-9a4e-00f21d98cc32",
   "metadata": {},
   "outputs": [
    {
     "data": {
      "text/plain": [
       "IPV4_SRC_ADDR                   object\n",
       "L4_SRC_PORT                      int64\n",
       "IPV4_DST_ADDR                   object\n",
       "L4_DST_PORT                      int64\n",
       "PROTOCOL                         int64\n",
       "L7_PROTO                       float64\n",
       "IN_BYTES                         int64\n",
       "IN_PKTS                          int64\n",
       "OUT_BYTES                        int64\n",
       "OUT_PKTS                         int64\n",
       "TCP_FLAGS                        int64\n",
       "CLIENT_TCP_FLAGS                 int64\n",
       "SERVER_TCP_FLAGS                 int64\n",
       "FLOW_DURATION_MILLISECONDS       int64\n",
       "DURATION_IN                      int64\n",
       "DURATION_OUT                     int64\n",
       "MIN_TTL                          int64\n",
       "MAX_TTL                          int64\n",
       "LONGEST_FLOW_PKT                 int64\n",
       "SHORTEST_FLOW_PKT                int64\n",
       "MIN_IP_PKT_LEN                   int64\n",
       "MAX_IP_PKT_LEN                   int64\n",
       "SRC_TO_DST_SECOND_BYTES        float64\n",
       "DST_TO_SRC_SECOND_BYTES        float64\n",
       "RETRANSMITTED_IN_BYTES           int64\n",
       "RETRANSMITTED_IN_PKTS            int64\n",
       "RETRANSMITTED_OUT_BYTES          int64\n",
       "RETRANSMITTED_OUT_PKTS           int64\n",
       "SRC_TO_DST_AVG_THROUGHPUT        int64\n",
       "DST_TO_SRC_AVG_THROUGHPUT        int64\n",
       "NUM_PKTS_UP_TO_128_BYTES         int64\n",
       "NUM_PKTS_128_TO_256_BYTES        int64\n",
       "NUM_PKTS_256_TO_512_BYTES        int64\n",
       "NUM_PKTS_512_TO_1024_BYTES       int64\n",
       "NUM_PKTS_1024_TO_1514_BYTES      int64\n",
       "TCP_WIN_MAX_IN                   int64\n",
       "TCP_WIN_MAX_OUT                  int64\n",
       "ICMP_TYPE                        int64\n",
       "ICMP_IPV4_TYPE                   int64\n",
       "DNS_QUERY_ID                     int64\n",
       "DNS_QUERY_TYPE                   int64\n",
       "DNS_TTL_ANSWER                   int64\n",
       "FTP_COMMAND_RET_CODE             int64\n",
       "Label                            int64\n",
       "Attack                          object\n",
       "dtype: object"
      ]
     },
     "execution_count": 3,
     "metadata": {},
     "output_type": "execute_result"
    }
   ],
   "source": [
    "df.dtypes"
   ]
  },
  {
   "cell_type": "code",
   "execution_count": 4,
   "id": "e14eb9cb-e385-4972-b4a7-2cd83a0469e6",
   "metadata": {},
   "outputs": [
    {
     "data": {
      "text/plain": [
       "Label\n",
       "1    10841027\n",
       "0     6099469\n",
       "Name: count, dtype: int64"
      ]
     },
     "execution_count": 4,
     "metadata": {},
     "output_type": "execute_result"
    }
   ],
   "source": [
    "df.Label.value_counts()"
   ]
  },
  {
   "cell_type": "code",
   "execution_count": 6,
   "id": "cb7fe677-21ee-409c-a90c-8272e1d45c2c",
   "metadata": {},
   "outputs": [
    {
     "data": {
      "text/plain": [
       "Attack\n",
       "Benign        6099469\n",
       "scanning      3781419\n",
       "xss           2455020\n",
       "ddos          2026234\n",
       "password      1153323\n",
       "dos            712609\n",
       "injection      684465\n",
       "backdoor        16809\n",
       "mitm             7723\n",
       "ransomware       3425\n",
       "Name: count, dtype: int64"
      ]
     },
     "execution_count": 6,
     "metadata": {},
     "output_type": "execute_result"
    }
   ],
   "source": [
    "df.Attack.value_counts()"
   ]
  },
  {
   "cell_type": "code",
   "execution_count": 7,
   "id": "965dc577-e736-4296-ad24-04a638f43003",
   "metadata": {},
   "outputs": [],
   "source": [
    "df = df.drop(columns=['IPV4_SRC_ADDR', 'IPV4_DST_ADDR'])"
   ]
  },
  {
   "cell_type": "code",
   "execution_count": 8,
   "id": "1104bcbb-f83f-4727-9a9a-c53552b41b96",
   "metadata": {},
   "outputs": [
    {
     "data": {
      "text/plain": [
       "L4_SRC_PORT                      int64\n",
       "L4_DST_PORT                      int64\n",
       "PROTOCOL                         int64\n",
       "L7_PROTO                       float64\n",
       "IN_BYTES                         int64\n",
       "IN_PKTS                          int64\n",
       "OUT_BYTES                        int64\n",
       "OUT_PKTS                         int64\n",
       "TCP_FLAGS                        int64\n",
       "CLIENT_TCP_FLAGS                 int64\n",
       "SERVER_TCP_FLAGS                 int64\n",
       "FLOW_DURATION_MILLISECONDS       int64\n",
       "DURATION_IN                      int64\n",
       "DURATION_OUT                     int64\n",
       "MIN_TTL                          int64\n",
       "MAX_TTL                          int64\n",
       "LONGEST_FLOW_PKT                 int64\n",
       "SHORTEST_FLOW_PKT                int64\n",
       "MIN_IP_PKT_LEN                   int64\n",
       "MAX_IP_PKT_LEN                   int64\n",
       "SRC_TO_DST_SECOND_BYTES        float64\n",
       "DST_TO_SRC_SECOND_BYTES        float64\n",
       "RETRANSMITTED_IN_BYTES           int64\n",
       "RETRANSMITTED_IN_PKTS            int64\n",
       "RETRANSMITTED_OUT_BYTES          int64\n",
       "RETRANSMITTED_OUT_PKTS           int64\n",
       "SRC_TO_DST_AVG_THROUGHPUT        int64\n",
       "DST_TO_SRC_AVG_THROUGHPUT        int64\n",
       "NUM_PKTS_UP_TO_128_BYTES         int64\n",
       "NUM_PKTS_128_TO_256_BYTES        int64\n",
       "NUM_PKTS_256_TO_512_BYTES        int64\n",
       "NUM_PKTS_512_TO_1024_BYTES       int64\n",
       "NUM_PKTS_1024_TO_1514_BYTES      int64\n",
       "TCP_WIN_MAX_IN                   int64\n",
       "TCP_WIN_MAX_OUT                  int64\n",
       "ICMP_TYPE                        int64\n",
       "ICMP_IPV4_TYPE                   int64\n",
       "DNS_QUERY_ID                     int64\n",
       "DNS_QUERY_TYPE                   int64\n",
       "DNS_TTL_ANSWER                   int64\n",
       "FTP_COMMAND_RET_CODE             int64\n",
       "Label                            int64\n",
       "Attack                          object\n",
       "dtype: object"
      ]
     },
     "execution_count": 8,
     "metadata": {},
     "output_type": "execute_result"
    }
   ],
   "source": [
    "df.dtypes"
   ]
  },
  {
   "cell_type": "code",
   "execution_count": 9,
   "id": "e0233e7b-b6e5-4abc-bae1-06c97ae7bac5",
   "metadata": {},
   "outputs": [
    {
     "name": "stdout",
     "output_type": "stream",
     "text": [
      "0 rows with at least one NaN to remove\n"
     ]
    }
   ],
   "source": [
    "df.replace([np.inf, -np.inf], np.nan, inplace=True)    \n",
    "print(df.isna().any(axis=1).sum(), \"rows with at least one NaN to remove\")\n",
    "df.dropna(inplace=True)"
   ]
  },
  {
   "cell_type": "code",
   "execution_count": 10,
   "id": "07bdca96-38a4-4642-9656-05b93f5a8def",
   "metadata": {},
   "outputs": [
    {
     "name": "stdout",
     "output_type": "stream",
     "text": [
      "3804615 fully duplicate rows to remove\n"
     ]
    }
   ],
   "source": [
    "print(df.duplicated().sum(), \"fully duplicate rows to remove\")\n",
    "df.drop_duplicates(inplace=True)\n",
    "df.reset_index(inplace=True, drop=True)"
   ]
  },
  {
   "cell_type": "code",
   "execution_count": 11,
   "id": "2a8c5af0-8e48-4d4e-b326-309626344474",
   "metadata": {},
   "outputs": [
    {
     "data": {
      "text/plain": [
       "Label\n",
       "0    660467\n",
       "1    660467\n",
       "Name: count, dtype: int64"
      ]
     },
     "execution_count": 11,
     "metadata": {},
     "output_type": "execute_result"
    }
   ],
   "source": [
    "injection=df[df['Attack'].str.contains(\"injection\",case=False)]\n",
    "benign=df[df['Attack'] == 'Benign']\n",
    "size_injection=injection.shape[0]\n",
    "size_benign= benign.shape[0]\n",
    "\n",
    "if size_injection>size_benign:\n",
    "        #downsample attack\n",
    "        injection= injection.sample(size_benign)\n",
    "else:\n",
    "        #downsample benign\n",
    "        benign = benign.sample(size_injection)\n",
    "\n",
    "f_data = pd.concat(objs=[injection,benign])\n",
    "# Shuffle the rows\n",
    "data = f_data.sample(frac=1, random_state=42).reset_index(drop=True)\n",
    "x=data.drop(columns=['Attack'])\n",
    "# The 'random_state' parameter ensures reproducibility. You can change the value to any integer.\n",
    "x.to_csv('/Users/hardeesh/CSV/Final_Data.csv',index=False)\n",
    "x.Label.value_counts()"
   ]
  }
 ],
 "metadata": {
  "kernelspec": {
   "display_name": "Python 3 (ipykernel)",
   "language": "python",
   "name": "python3"
  },
  "language_info": {
   "codemirror_mode": {
    "name": "ipython",
    "version": 3
   },
   "file_extension": ".py",
   "mimetype": "text/x-python",
   "name": "python",
   "nbconvert_exporter": "python",
   "pygments_lexer": "ipython3",
   "version": "3.12.0"
  }
 },
 "nbformat": 4,
 "nbformat_minor": 5
}
